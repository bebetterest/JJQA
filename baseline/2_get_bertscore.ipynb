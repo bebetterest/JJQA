{
 "cells": [
  {
   "cell_type": "code",
   "execution_count": null,
   "id": "adb30c1e-600c-4343-8cca-410c3031eb47",
   "metadata": {},
   "outputs": [],
   "source": [
    "# # install dependencies\n",
    "# !pip install datasets dashscope openai requests retrying numpy func_timeout bert_score transformers"
   ]
  },
  {
   "cell_type": "code",
   "execution_count": null,
   "id": "6fe472d7-5700-4219-9cdb-59e7d7023a5c",
   "metadata": {},
   "outputs": [],
   "source": [
    "model_list=[\"ernie-turbo\",\"chatglm2_6b_32k\",\"qwen-turbo\",\"baichuan2-7b-chat-v1\",\"gpt-3.5-turbo\",\"gpt-4\",\"gpt-4-1106-preview\"]\n",
    "mode_list=[\"without_info\",\"with_whole_song\",\"with_rf\"]\n",
    "line_list=[\"wo_info\",\"w_song\",\"w_rf\"]\n",
    "res_table_s=\"|LLM|Method|Precision|Recall|F1|\\n|:---:|:---:|:---:|:---:|:---:|\\n\""
   ]
  },
  {
   "cell_type": "code",
   "execution_count": null,
   "id": "1e8c0f2a-1481-4c7a-8077-e7120ece11d5",
   "metadata": {},
   "outputs": [],
   "source": [
    "import os\n",
    "import json\n",
    "from bert_score import score\n",
    "import numpy as np\n",
    "\n",
    "skip_flag=True  # whether to skip the samples, which the api platform refuses to give answers for due to the safety system\n",
    "\n",
    "for model in model_list:\n",
    "    for mode in mode_list:\n",
    "        file_path=model+\"_\"+mode+\"_dic.json\"\n",
    "        Precision=\"\"\n",
    "        Recall=\"\"\n",
    "        F1=\"\"\n",
    "        if(os.path.exists(file_path)==False):\n",
    "            print(\"Not found: \"+file_path)\n",
    "            Precision=\"00.0000\"\n",
    "            Recall=\"00.0000\"\n",
    "            F1=\"00.0000\"\n",
    "        else:\n",
    "            print(\"For: \"+file_path)\n",
    "            predictions=[]\n",
    "            references=[]\n",
    "            \n",
    "            dic=None\n",
    "            with open(file_path,\"r\",encoding='utf-8') as f:\n",
    "                dic=json.load(f)\n",
    "                \n",
    "            for value in list(dic.values()):\n",
    "                pred=value[\"pred\"]\n",
    "                label=value[\"label\"]\n",
    "                if((pred==\"inappropriate error\") and (skip_flag==True)):\n",
    "                    print(\"skip\")\n",
    "                    continue\n",
    "                if(pred[-1]!=\"。\"): # make sure the pred ends with \"。\"\n",
    "                    pred=pred+\"。\"\n",
    "                predictions.append(pred)\n",
    "                references.append(label)\n",
    "                \n",
    "            Precision, Recall, F1 = score(predictions, references, lang='zh', rescale_with_baseline=True,batch_size=128)\n",
    "            Precision_mean=Precision.mean()\n",
    "            Recall_mean=Recall.mean()\n",
    "            F1_mean=F1.mean()\n",
    "        \n",
    "        npz_file_name=f\"{model}_{mode}_bertscore.npz\"\n",
    "        np.savez(npz_file_name, Precision=Precision, Recall=Recall, F1=F1)\n",
    "        \n",
    "        res_table_s=res_table_s+\"|*\"+model+\"*|*\"+mode+\"*|\"+\"%0.4f|\"%Precision_mean+\"%0.4f|\"%Recall_mean+\"%0.4f|\\n\"%F1_mean            "
   ]
  },
  {
   "cell_type": "code",
   "execution_count": null,
   "id": "8cf2652a-1d9e-49a3-85eb-d88d447fcde0",
   "metadata": {},
   "outputs": [],
   "source": [
    "print(res_table_s)# markdown format"
   ]
  },
  {
   "cell_type": "markdown",
   "metadata": {},
   "source": [
    "|LLM|Method|Precision|Recall|F1|\n",
    "|:---:|:---:|:---:|:---:|:---:|\n",
    "|*ernie-turbo*|*without_info*|-0.0350|0.1568|0.0511|\n",
    "|*ernie-turbo*|*with_whole_song*|0.2472|0.5765|0.3895|\n",
    "|*ernie-turbo*|*with_rf*|0.3600|0.6528|0.4864|\n",
    "|*chatglm2_6b_32k*|*without_info*|0.0466|0.1787|0.1066|\n",
    "|*chatglm2_6b_32k*|*with_whole_song*|0.2361|0.4606|0.3335|\n",
    "|*chatglm2_6b_32k*|*with_rf*|0.4650|0.6477|0.5436|\n",
    "|*qwen-turbo*|*without_info*|0.2331|0.2150|0.2208|\n",
    "|*qwen-turbo*|*with_whole_song*|0.7673|0.8041|0.7804|\n",
    "|*qwen-turbo*|*with_rf*|0.8600|0.8251|0.8386|\n",
    "|*baichuan2-7b-chat-v1*|*without_info*|0.1755|0.2012|0.1857|\n",
    "|*baichuan2-7b-chat-v1*|*with_whole_song*|0.4635|0.6324|0.5371|\n",
    "|*baichuan2-7b-chat-v1*|*with_rf*|0.6567|0.7272|0.6851|\n",
    "|*gpt-3.5-turbo*|*without_info*|0.2201|0.1983|0.2061|\n",
    "|*gpt-3.5-turbo*|*with_whole_song*|0.8031|0.7812|0.7884|\n",
    "|*gpt-3.5-turbo*|*with_rf*|0.8110|0.7484|0.7758|\n",
    "|*gpt-4*|*without_info*|0.2426|0.2377|0.2376|\n",
    "|*gpt-4*|*with_whole_song*|0.8405|0.8587|0.8464|\n",
    "|*gpt-4*|*with_rf*|0.8865|0.8643|0.8732|\n",
    "|*gpt-4-1106-preview*|*without_info*|0.2345|0.2061|0.2179|\n",
    "|*gpt-4-1106-preview*|*with_whole_song*|0.8411|0.8117|0.8231|\n",
    "|*gpt-4-1106-preview*|*with_rf*|0.8230|0.7678|0.7921|"
   ]
  }
 ],
 "metadata": {
  "kernelspec": {
   "display_name": "Python 3 (ipykernel)",
   "language": "python",
   "name": "python3"
  },
  "language_info": {
   "codemirror_mode": {
    "name": "ipython",
    "version": 3
   },
   "file_extension": ".py",
   "mimetype": "text/x-python",
   "name": "python",
   "nbconvert_exporter": "python",
   "pygments_lexer": "ipython3",
   "version": "3.8.10"
  }
 },
 "nbformat": 4,
 "nbformat_minor": 5
}
