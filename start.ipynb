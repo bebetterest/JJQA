{
 "cells": [
  {
   "cell_type": "code",
   "execution_count": null,
   "metadata": {},
   "outputs": [],
   "source": [
    "from datasets import load_dataset\n",
    "import json"
   ]
  },
  {
   "cell_type": "code",
   "execution_count": 1,
   "metadata": {},
   "outputs": [
    {
     "name": "stderr",
     "output_type": "stream",
     "text": [
      "c:\\Users\\123\\.conda\\envs\\default\\Lib\\site-packages\\tqdm\\auto.py:21: TqdmWarning: IProgress not found. Please update jupyter and ipywidgets. See https://ipywidgets.readthedocs.io/en/stable/user_install.html\n",
      "  from .autonotebook import tqdm as notebook_tqdm\n",
      "Downloading builder script: 100%|██████████| 8.10k/8.10k [00:00<?, ?B/s]\n",
      "Downloading readme: 100%|██████████| 6.94k/6.94k [00:00<?, ?B/s]\n"
     ]
    },
    {
     "name": "stdout",
     "output_type": "stream",
     "text": [
      "Downloading and preparing dataset jjqa/qa to C:/Users/123/.cache/huggingface/datasets/hobeter___jjqa/qa/0.0.1/1285f239fa10d491bec4e3e83aa0e986466a6d7cb76589486ae723fbbc3a497c...\n"
     ]
    },
    {
     "name": "stderr",
     "output_type": "stream",
     "text": [
      "Downloading data: 100%|██████████| 129k/129k [00:00<00:00, 281kB/s] \n",
      "                                                                      \r"
     ]
    },
    {
     "name": "stdout",
     "output_type": "stream",
     "text": [
      "Dataset jjqa downloaded and prepared to C:/Users/123/.cache/huggingface/datasets/hobeter___jjqa/qa/0.0.1/1285f239fa10d491bec4e3e83aa0e986466a6d7cb76589486ae723fbbc3a497c. Subsequent calls will reuse this data.\n"
     ]
    },
    {
     "name": "stderr",
     "output_type": "stream",
     "text": [
      "100%|██████████| 1/1 [00:00<00:00, 998.41it/s]\n"
     ]
    },
    {
     "name": "stdout",
     "output_type": "stream",
     "text": [
      "Downloading and preparing dataset jjqa/song to C:/Users/123/.cache/huggingface/datasets/hobeter___jjqa/song/0.0.1/1285f239fa10d491bec4e3e83aa0e986466a6d7cb76589486ae723fbbc3a497c...\n"
     ]
    },
    {
     "name": "stderr",
     "output_type": "stream",
     "text": [
      "Downloading data: 100%|██████████| 275k/275k [00:00<00:00, 1.50MB/s]\n",
      "                                                                      \r"
     ]
    },
    {
     "name": "stdout",
     "output_type": "stream",
     "text": [
      "Dataset jjqa downloaded and prepared to C:/Users/123/.cache/huggingface/datasets/hobeter___jjqa/song/0.0.1/1285f239fa10d491bec4e3e83aa0e986466a6d7cb76589486ae723fbbc3a497c. Subsequent calls will reuse this data.\n"
     ]
    },
    {
     "name": "stderr",
     "output_type": "stream",
     "text": [
      "100%|██████████| 1/1 [00:00<00:00, 499.74it/s]\n"
     ]
    },
    {
     "name": "stdout",
     "output_type": "stream",
     "text": [
      "Downloading and preparing dataset jjqa/song_index to C:/Users/123/.cache/huggingface/datasets/hobeter___jjqa/song_index/0.0.1/1285f239fa10d491bec4e3e83aa0e986466a6d7cb76589486ae723fbbc3a497c...\n"
     ]
    },
    {
     "name": "stderr",
     "output_type": "stream",
     "text": [
      "Downloading data: 100%|██████████| 3.98k/3.98k [00:00<?, ?B/s]\n",
      "                                                                    \r"
     ]
    },
    {
     "name": "stdout",
     "output_type": "stream",
     "text": [
      "Dataset jjqa downloaded and prepared to C:/Users/123/.cache/huggingface/datasets/hobeter___jjqa/song_index/0.0.1/1285f239fa10d491bec4e3e83aa0e986466a6d7cb76589486ae723fbbc3a497c. Subsequent calls will reuse this data.\n"
     ]
    },
    {
     "name": "stderr",
     "output_type": "stream",
     "text": [
      "100%|██████████| 1/1 [00:00<00:00, 499.74it/s]\n"
     ]
    }
   ],
   "source": [
    "#load JJQA\n",
    "\n",
    "# # load from local files in the repository\n",
    "# qas = load_dataset(\"../JJQA\",\"qa\")[\"train\"]\n",
    "# songs = load_dataset(\"../JJQA\",\"song\")[\"train\"]\n",
    "# song_index=json.loads(load_dataset(\"hobeter/JJQA\",\"song_index\")[\"train\"][\"dic\"][0])[0]\n",
    "\n",
    "# load from huggingface\n",
    "qas = load_dataset(\"hobeter/JJQA\",\"qa\")[\"train\"]\n",
    "songs = load_dataset(\"hobeter/JJQA\",\"song\")[\"train\"]\n",
    "song_index=json.loads(load_dataset(\"hobeter/JJQA\",\"song_index\")[\"train\"][\"dic\"][0])[0]"
   ]
  },
  {
   "cell_type": "code",
   "execution_count": 2,
   "metadata": {},
   "outputs": [
    {
     "data": {
      "text/plain": [
       "Dataset({\n",
       "    features: ['q', 'a', 'rf', 'song_title', 'song_id', 'id'],\n",
       "    num_rows: 648\n",
       "})"
      ]
     },
     "execution_count": 2,
     "metadata": {},
     "output_type": "execute_result"
    }
   ],
   "source": [
    "qas"
   ]
  },
  {
   "cell_type": "code",
   "execution_count": 3,
   "metadata": {},
   "outputs": [
    {
     "data": {
      "text/plain": [
       "Dataset({\n",
       "    features: ['id', 'title', 'name', 'lyric'],\n",
       "    num_rows: 181\n",
       "})"
      ]
     },
     "execution_count": 3,
     "metadata": {},
     "output_type": "execute_result"
    }
   ],
   "source": [
    "songs"
   ]
  },
  {
   "cell_type": "code",
   "execution_count": 4,
   "metadata": {},
   "outputs": [
    {
     "name": "stdout",
     "output_type": "stream",
     "text": [
      "type[{'380929182': 0, '410919': 1, '410780': 2, '330621482': 3, '102388816': 4, '233346345': 5, '105393425': 6, '102388811': 7, '240180882': 8, '648227': 9, '648242': 10, '330621488': 11, '101019': 12, '105163752': 13, '3584623': 14, '102388813': 15, '102388809': 16, '764257': 17, '648231': 18, '95263': 19, '648246': 20, '447252': 21, '102388815': 22, '103612': 23, '410783': 24, '101018': 25, '105095766': 26, '101014': 27, '107360759': 28, '101659149': 29, '126693781': 30, '212664070': 31, '105393422': 32, '764255': 33, '212664075': 34, '95270': 35, '447346': 36, '480878': 37, '105388644': 38, '101659148': 39, '95286': 40, '236314334': 41, '410781': 42, '257287': 43, '213773480': 44, '2479366': 45, '648232': 46, '105393420': 47, '405007726': 48, '290290285': 49, '313271033': 50, '102388807': 51, '95287': 52, '5123824': 53, '330621489': 54, '405007732': 55, '447254': 56, '212656958': 57, '101659147': 58, '103611': 59, '237773551': 60, '9063002': 61, '95268': 62, '212664073': 63, '277438634': 64, '764262': 65, '447258': 66, '95290': 67, '101020': 68, '225903007': 69, '103602': 70, '95293': 71, '330621486': 72, '330621484': 73, '5063367': 74, '279701424': 75, '5063373': 76, '102388810': 77, '180065': 78, '165429': 79, '648244': 80, '95292': 81, '405007724': 82, '105710031': 83, '434985': 84, '330621481': 85, '125875386': 86, '102388814': 87, '95262': 88, '102388808': 89, '405007731': 90, '124688346': 91, '405007727': 92, '102212094': 93, '105393416': 94, '103608': 95, '434017': 96, '417100': 97, '104309549': 98, '103610': 99, '405007733': 100, '95265': 101, '410773': 102, '330621487': 103, '212664068': 104, '393959376': 105, '212664076': 106, '5063369': 107, '330621480': 108, '101795110': 109, '101015': 110, '212664071': 111, '102415346': 112, '95288': 113, '95271': 114, '877021': 115, '101232': 116, '182161': 117, '764263': 118, '211884290': 119, '764258': 120, '1219534': 121, '764260': 122, '447260': 123, '212664072': 124, '233086480': 125, '102943286': 126, '7083998': 127, '648230': 128, '95269': 129, '371679750': 130, '410776': 131, '273270232': 132, '95291': 133, '105393411': 134, '3584622': 135, '212664077': 136, '103518': 137, '405007728': 138, '410775': 139, '330621483': 140, '279701423': 141, '105704752': 142, '103605': 143, '764259': 144, '616680': 145, '5063375': 146, '102388806': 147, '103607': 148, '9087424': 149, '333777105': 150, '648233': 151, '5063370': 152, '5063372': 153, '124688347': 154, '5063371': 155, '95272': 156, '764261': 157, '405007735': 158, '764256': 159, '105393423': 160, '447256': 161, '125432256': 162, '737740': 163, '101017': 164, '405007729': 165, '2650630': 166, '126692705': 167, '279701422': 168, '764265': 169, '764254': 170, '105393417': 171, '648243': 172, '447259': 173, '95284': 174, '405007725': 175, '410785': 176, '105388642': 177, '279701421': 178, '279701420': 179, '101013': 180}]\n",
      "181\n",
      "\n",
      "\n",
      "380929182 : 0\n",
      "410919 : 1\n",
      "410780 : 2\n",
      "330621482 : 3\n",
      "102388816 : 4\n",
      "......\n"
     ]
    }
   ],
   "source": [
    "print(type[song_index])\n",
    "print(len(list(song_index.keys())))\n",
    "print(\"\\n\")\n",
    "for ind in range(5):\n",
    "    key=list(song_index.keys())[ind]\n",
    "    print(f\"{key} : {song_index[key]}\")\n",
    "print(\"......\")"
   ]
  }
 ],
 "metadata": {
  "kernelspec": {
   "display_name": "default",
   "language": "python",
   "name": "python3"
  },
  "language_info": {
   "codemirror_mode": {
    "name": "ipython",
    "version": 3
   },
   "file_extension": ".py",
   "mimetype": "text/x-python",
   "name": "python",
   "nbconvert_exporter": "python",
   "pygments_lexer": "ipython3",
   "version": "3.11.5"
  }
 },
 "nbformat": 4,
 "nbformat_minor": 2
}
